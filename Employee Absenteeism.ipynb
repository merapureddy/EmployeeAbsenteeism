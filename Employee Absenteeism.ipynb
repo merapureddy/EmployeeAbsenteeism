{
 "cells": [
  {
   "cell_type": "code",
   "execution_count": 1,
   "metadata": {},
   "outputs": [
    {
     "name": "stderr",
     "output_type": "stream",
     "text": [
      "C:\\Users\\Owner\\Anaconda3\\lib\\site-packages\\ggplot\\utils.py:81: FutureWarning: pandas.tslib is deprecated and will be removed in a future version.\n",
      "You can access Timestamp as pandas.Timestamp\n",
      "  pd.tslib.Timestamp,\n",
      "C:\\Users\\Owner\\Anaconda3\\lib\\site-packages\\ggplot\\stats\\smoothers.py:4: FutureWarning: The pandas.lib module is deprecated and will be removed in a future version. These are private functions and can be accessed from pandas._libs.lib instead\n",
      "  from pandas.lib import Timestamp\n",
      "C:\\Users\\Owner\\Anaconda3\\lib\\site-packages\\statsmodels\\compat\\pandas.py:56: FutureWarning: The pandas.core.datetools module is deprecated and will be removed in a future version. Please use the pandas.tseries module instead.\n",
      "  from pandas.core import datetools\n"
     ]
    }
   ],
   "source": [
    "#import numpy as np\n",
    "#import pandas as pd\n",
    "#import os \n",
    "#from ggplot import *\n",
    "#from  sklearn.model_selection import train_test_split\n",
    "#from sklearn import metrics\n",
    "#from sklearn.metrics import mean_squared_error\n",
    "#from sklearn.model_selection import train_test_split, cross_val_score \n",
    "#from sklearn.linear_model import LinearRegression\n",
    "#from sklearn.ensemble import RandomForestRegressor\n",
    "#import seaborn as sns\n",
    "#import matplotlib.pyplot as plt\n",
    "#from fancyimpute import KNN"
   ]
  },
  {
   "cell_type": "code",
   "execution_count": 2,
   "metadata": {},
   "outputs": [
    {
     "data": {
      "text/plain": [
       "'C:\\\\chann\\\\ds\\\\edwisor\\\\employee absenteeism'"
      ]
     },
     "execution_count": 2,
     "metadata": {},
     "output_type": "execute_result"
    }
   ],
   "source": [
    "os.chdir('C:/chann/ds/edwisor/employee absenteeism')\n",
    "os.getcwd()"
   ]
  },
  {
   "cell_type": "code",
   "execution_count": 3,
   "metadata": {},
   "outputs": [],
   "source": [
    "data=pd.read_excel('Absenteeism_at_work_Project.xls')"
   ]
  },
  {
   "cell_type": "code",
   "execution_count": 4,
   "metadata": {
    "scrolled": true
   },
   "outputs": [
    {
     "data": {
      "text/html": [
       "<div>\n",
       "<style scoped>\n",
       "    .dataframe tbody tr th:only-of-type {\n",
       "        vertical-align: middle;\n",
       "    }\n",
       "\n",
       "    .dataframe tbody tr th {\n",
       "        vertical-align: top;\n",
       "    }\n",
       "\n",
       "    .dataframe thead th {\n",
       "        text-align: right;\n",
       "    }\n",
       "</style>\n",
       "<table border=\"1\" class=\"dataframe\">\n",
       "  <thead>\n",
       "    <tr style=\"text-align: right;\">\n",
       "      <th></th>\n",
       "      <th>ID</th>\n",
       "      <th>Reason for absence</th>\n",
       "      <th>Month of absence</th>\n",
       "      <th>Day of the week</th>\n",
       "      <th>Seasons</th>\n",
       "      <th>Transportation expense</th>\n",
       "      <th>Distance from Residence to Work</th>\n",
       "      <th>Service time</th>\n",
       "      <th>Age</th>\n",
       "      <th>Work load Average/day</th>\n",
       "      <th>...</th>\n",
       "      <th>Disciplinary failure</th>\n",
       "      <th>Education</th>\n",
       "      <th>Son</th>\n",
       "      <th>Social drinker</th>\n",
       "      <th>Social smoker</th>\n",
       "      <th>Pet</th>\n",
       "      <th>Weight</th>\n",
       "      <th>Height</th>\n",
       "      <th>Body mass index</th>\n",
       "      <th>Absenteeism time in hours</th>\n",
       "    </tr>\n",
       "  </thead>\n",
       "  <tbody>\n",
       "    <tr>\n",
       "      <th>0</th>\n",
       "      <td>11</td>\n",
       "      <td>26.0</td>\n",
       "      <td>7.0</td>\n",
       "      <td>3</td>\n",
       "      <td>1</td>\n",
       "      <td>289.0</td>\n",
       "      <td>36.0</td>\n",
       "      <td>13.0</td>\n",
       "      <td>33.0</td>\n",
       "      <td>239554.0</td>\n",
       "      <td>...</td>\n",
       "      <td>0.0</td>\n",
       "      <td>1.0</td>\n",
       "      <td>2.0</td>\n",
       "      <td>1.0</td>\n",
       "      <td>0.0</td>\n",
       "      <td>1.0</td>\n",
       "      <td>90.0</td>\n",
       "      <td>172.0</td>\n",
       "      <td>30.0</td>\n",
       "      <td>4.0</td>\n",
       "    </tr>\n",
       "    <tr>\n",
       "      <th>1</th>\n",
       "      <td>36</td>\n",
       "      <td>0.0</td>\n",
       "      <td>7.0</td>\n",
       "      <td>3</td>\n",
       "      <td>1</td>\n",
       "      <td>118.0</td>\n",
       "      <td>13.0</td>\n",
       "      <td>18.0</td>\n",
       "      <td>50.0</td>\n",
       "      <td>239554.0</td>\n",
       "      <td>...</td>\n",
       "      <td>1.0</td>\n",
       "      <td>1.0</td>\n",
       "      <td>1.0</td>\n",
       "      <td>1.0</td>\n",
       "      <td>0.0</td>\n",
       "      <td>0.0</td>\n",
       "      <td>98.0</td>\n",
       "      <td>178.0</td>\n",
       "      <td>31.0</td>\n",
       "      <td>0.0</td>\n",
       "    </tr>\n",
       "    <tr>\n",
       "      <th>2</th>\n",
       "      <td>3</td>\n",
       "      <td>23.0</td>\n",
       "      <td>7.0</td>\n",
       "      <td>4</td>\n",
       "      <td>1</td>\n",
       "      <td>179.0</td>\n",
       "      <td>51.0</td>\n",
       "      <td>18.0</td>\n",
       "      <td>38.0</td>\n",
       "      <td>239554.0</td>\n",
       "      <td>...</td>\n",
       "      <td>0.0</td>\n",
       "      <td>1.0</td>\n",
       "      <td>0.0</td>\n",
       "      <td>1.0</td>\n",
       "      <td>0.0</td>\n",
       "      <td>0.0</td>\n",
       "      <td>89.0</td>\n",
       "      <td>170.0</td>\n",
       "      <td>31.0</td>\n",
       "      <td>2.0</td>\n",
       "    </tr>\n",
       "  </tbody>\n",
       "</table>\n",
       "<p>3 rows × 21 columns</p>\n",
       "</div>"
      ],
      "text/plain": [
       "   ID  Reason for absence  Month of absence  Day of the week  Seasons  \\\n",
       "0  11                26.0               7.0                3        1   \n",
       "1  36                 0.0               7.0                3        1   \n",
       "2   3                23.0               7.0                4        1   \n",
       "\n",
       "   Transportation expense  Distance from Residence to Work  Service time  \\\n",
       "0                   289.0                             36.0          13.0   \n",
       "1                   118.0                             13.0          18.0   \n",
       "2                   179.0                             51.0          18.0   \n",
       "\n",
       "    Age  Work load Average/day             ...              \\\n",
       "0  33.0                239554.0            ...               \n",
       "1  50.0                239554.0            ...               \n",
       "2  38.0                239554.0            ...               \n",
       "\n",
       "   Disciplinary failure  Education  Son  Social drinker  Social smoker  Pet  \\\n",
       "0                   0.0        1.0  2.0             1.0            0.0  1.0   \n",
       "1                   1.0        1.0  1.0             1.0            0.0  0.0   \n",
       "2                   0.0        1.0  0.0             1.0            0.0  0.0   \n",
       "\n",
       "   Weight  Height  Body mass index  Absenteeism time in hours  \n",
       "0    90.0   172.0             30.0                        4.0  \n",
       "1    98.0   178.0             31.0                        0.0  \n",
       "2    89.0   170.0             31.0                        2.0  \n",
       "\n",
       "[3 rows x 21 columns]"
      ]
     },
     "execution_count": 4,
     "metadata": {},
     "output_type": "execute_result"
    }
   ],
   "source": [
    "data.head(3)"
   ]
  },
  {
   "cell_type": "code",
   "execution_count": 5,
   "metadata": {},
   "outputs": [
    {
     "data": {
      "text/plain": [
       "ID                                   int64\n",
       "Reason for absence                 float64\n",
       "Month of absence                   float64\n",
       "Day of the week                      int64\n",
       "Seasons                              int64\n",
       "Transportation expense             float64\n",
       "Distance from Residence to Work    float64\n",
       "Service time                       float64\n",
       "Age                                float64\n",
       "Work load Average/day              float64\n",
       "Hit target                         float64\n",
       "Disciplinary failure               float64\n",
       "Education                          float64\n",
       "Son                                float64\n",
       "Social drinker                     float64\n",
       "Social smoker                      float64\n",
       "Pet                                float64\n",
       "Weight                             float64\n",
       "Height                             float64\n",
       "Body mass index                    float64\n",
       "Absenteeism time in hours          float64\n",
       "dtype: object"
      ]
     },
     "execution_count": 5,
     "metadata": {},
     "output_type": "execute_result"
    }
   ],
   "source": [
    "data.dtypes"
   ]
  },
  {
   "cell_type": "code",
   "execution_count": 6,
   "metadata": {},
   "outputs": [
    {
     "data": {
      "text/plain": [
       "count    737.000000\n",
       "mean      19.188602\n",
       "std        8.437493\n",
       "min        0.000000\n",
       "25%       13.000000\n",
       "50%       23.000000\n",
       "75%       26.000000\n",
       "max       28.000000\n",
       "Name: Reason for absence, dtype: float64"
      ]
     },
     "execution_count": 6,
     "metadata": {},
     "output_type": "execute_result"
    }
   ],
   "source": [
    "data['Reason for absence'].describe()"
   ]
  },
  {
   "cell_type": "code",
   "execution_count": 7,
   "metadata": {},
   "outputs": [
    {
     "name": "stderr",
     "output_type": "stream",
     "text": [
      "C:\\Users\\Owner\\Anaconda3\\lib\\site-packages\\ipykernel_launcher.py:2: SettingWithCopyWarning: \n",
      "A value is trying to be set on a copy of a slice from a DataFrame\n",
      "\n",
      "See the caveats in the documentation: http://pandas.pydata.org/pandas-docs/stable/indexing.html#indexing-view-versus-copy\n",
      "  \n"
     ]
    }
   ],
   "source": [
    "# Imputing 0 to 26 (Unjustified absence)\n",
    "data['Reason for absence'][data['Reason for absence']==0]=26"
   ]
  },
  {
   "cell_type": "code",
   "execution_count": 8,
   "metadata": {},
   "outputs": [
    {
     "data": {
      "text/plain": [
       "Index(['ID', 'Reason for absence', 'Month of absence', 'Day of the week',\n",
       "       'Seasons', 'Transportation expense', 'Distance from Residence to Work',\n",
       "       'Service time', 'Age', 'Work load Average/day ', 'Hit target',\n",
       "       'Disciplinary failure', 'Education', 'Son', 'Social drinker',\n",
       "       'Social smoker', 'Pet', 'Weight', 'Height', 'Body mass index',\n",
       "       'Absenteeism time in hours'],\n",
       "      dtype='object')"
      ]
     },
     "execution_count": 8,
     "metadata": {},
     "output_type": "execute_result"
    }
   ],
   "source": [
    "data.columns"
   ]
  },
  {
   "cell_type": "code",
   "execution_count": 9,
   "metadata": {},
   "outputs": [
    {
     "data": {
      "text/plain": [
       "ID                                   int64\n",
       "Reason for absence                  object\n",
       "Month of absence                    object\n",
       "Day of the week                     object\n",
       "Seasons                             object\n",
       "Transportation expense             float64\n",
       "Distance from Residence to Work    float64\n",
       "Service time                       float64\n",
       "Age                                float64\n",
       "Work load Average/day              float64\n",
       "Hit target                         float64\n",
       "Disciplinary failure                object\n",
       "Education                          float64\n",
       "Son                                 object\n",
       "Social drinker                     float64\n",
       "Social smoker                      float64\n",
       "Pet                                 object\n",
       "Weight                             float64\n",
       "Height                             float64\n",
       "Body mass index                    float64\n",
       "Absenteeism time in hours          float64\n",
       "dtype: object"
      ]
     },
     "execution_count": 9,
     "metadata": {},
     "output_type": "execute_result"
    }
   ],
   "source": [
    "data['Reason for absence']=data['Reason for absence'].astype(object)\n",
    "data['Month of absence']=data['Month of absence'].astype(object)\n",
    "data['Day of the week']=data['Day of the week'].astype(object)\n",
    "data['Seasons']=data['Seasons'].astype(object)\n",
    "data['Disciplinary failure']=data['Disciplinary failure'].astype(object)\n",
    "data['Son']=data['Son'].astype(object)\n",
    "data['Pet']=data['Pet'].astype(object)\n",
    "data.dtypes"
   ]
  },
  {
   "cell_type": "code",
   "execution_count": 10,
   "metadata": {},
   "outputs": [
    {
     "data": {
      "text/html": [
       "<div>\n",
       "<style scoped>\n",
       "    .dataframe tbody tr th:only-of-type {\n",
       "        vertical-align: middle;\n",
       "    }\n",
       "\n",
       "    .dataframe tbody tr th {\n",
       "        vertical-align: top;\n",
       "    }\n",
       "\n",
       "    .dataframe thead th {\n",
       "        text-align: right;\n",
       "    }\n",
       "</style>\n",
       "<table border=\"1\" class=\"dataframe\">\n",
       "  <thead>\n",
       "    <tr style=\"text-align: right;\">\n",
       "      <th></th>\n",
       "      <th>ID</th>\n",
       "      <th>Transportation expense</th>\n",
       "      <th>Distance from Residence to Work</th>\n",
       "      <th>Service time</th>\n",
       "      <th>Age</th>\n",
       "      <th>Work load Average/day</th>\n",
       "      <th>Hit target</th>\n",
       "      <th>Education</th>\n",
       "      <th>Social drinker</th>\n",
       "      <th>Social smoker</th>\n",
       "      <th>Weight</th>\n",
       "      <th>Height</th>\n",
       "      <th>Body mass index</th>\n",
       "      <th>Absenteeism time in hours</th>\n",
       "    </tr>\n",
       "  </thead>\n",
       "  <tbody>\n",
       "    <tr>\n",
       "      <th>count</th>\n",
       "      <td>740.000000</td>\n",
       "      <td>733.000000</td>\n",
       "      <td>737.000000</td>\n",
       "      <td>737.000000</td>\n",
       "      <td>737.000000</td>\n",
       "      <td>730.000000</td>\n",
       "      <td>734.000000</td>\n",
       "      <td>730.000000</td>\n",
       "      <td>737.000000</td>\n",
       "      <td>736.000000</td>\n",
       "      <td>739.000000</td>\n",
       "      <td>726.000000</td>\n",
       "      <td>709.000000</td>\n",
       "      <td>718.000000</td>\n",
       "    </tr>\n",
       "    <tr>\n",
       "      <th>mean</th>\n",
       "      <td>18.017568</td>\n",
       "      <td>221.035471</td>\n",
       "      <td>29.667571</td>\n",
       "      <td>12.565807</td>\n",
       "      <td>36.449118</td>\n",
       "      <td>271188.860274</td>\n",
       "      <td>94.587193</td>\n",
       "      <td>1.295890</td>\n",
       "      <td>0.567164</td>\n",
       "      <td>0.073370</td>\n",
       "      <td>79.063599</td>\n",
       "      <td>172.152893</td>\n",
       "      <td>26.684062</td>\n",
       "      <td>6.977716</td>\n",
       "    </tr>\n",
       "    <tr>\n",
       "      <th>std</th>\n",
       "      <td>11.021247</td>\n",
       "      <td>66.954179</td>\n",
       "      <td>14.848124</td>\n",
       "      <td>4.389813</td>\n",
       "      <td>6.480148</td>\n",
       "      <td>38981.880873</td>\n",
       "      <td>3.792705</td>\n",
       "      <td>0.676965</td>\n",
       "      <td>0.495805</td>\n",
       "      <td>0.260919</td>\n",
       "      <td>12.868630</td>\n",
       "      <td>6.081065</td>\n",
       "      <td>4.292819</td>\n",
       "      <td>13.476962</td>\n",
       "    </tr>\n",
       "    <tr>\n",
       "      <th>min</th>\n",
       "      <td>1.000000</td>\n",
       "      <td>118.000000</td>\n",
       "      <td>5.000000</td>\n",
       "      <td>1.000000</td>\n",
       "      <td>27.000000</td>\n",
       "      <td>205917.000000</td>\n",
       "      <td>81.000000</td>\n",
       "      <td>1.000000</td>\n",
       "      <td>0.000000</td>\n",
       "      <td>0.000000</td>\n",
       "      <td>56.000000</td>\n",
       "      <td>163.000000</td>\n",
       "      <td>19.000000</td>\n",
       "      <td>0.000000</td>\n",
       "    </tr>\n",
       "    <tr>\n",
       "      <th>25%</th>\n",
       "      <td>9.000000</td>\n",
       "      <td>179.000000</td>\n",
       "      <td>16.000000</td>\n",
       "      <td>9.000000</td>\n",
       "      <td>31.000000</td>\n",
       "      <td>244387.000000</td>\n",
       "      <td>93.000000</td>\n",
       "      <td>1.000000</td>\n",
       "      <td>0.000000</td>\n",
       "      <td>0.000000</td>\n",
       "      <td>69.000000</td>\n",
       "      <td>169.000000</td>\n",
       "      <td>24.000000</td>\n",
       "      <td>2.000000</td>\n",
       "    </tr>\n",
       "    <tr>\n",
       "      <th>50%</th>\n",
       "      <td>18.000000</td>\n",
       "      <td>225.000000</td>\n",
       "      <td>26.000000</td>\n",
       "      <td>13.000000</td>\n",
       "      <td>37.000000</td>\n",
       "      <td>264249.000000</td>\n",
       "      <td>95.000000</td>\n",
       "      <td>1.000000</td>\n",
       "      <td>1.000000</td>\n",
       "      <td>0.000000</td>\n",
       "      <td>83.000000</td>\n",
       "      <td>170.000000</td>\n",
       "      <td>25.000000</td>\n",
       "      <td>3.000000</td>\n",
       "    </tr>\n",
       "    <tr>\n",
       "      <th>75%</th>\n",
       "      <td>28.000000</td>\n",
       "      <td>260.000000</td>\n",
       "      <td>50.000000</td>\n",
       "      <td>16.000000</td>\n",
       "      <td>40.000000</td>\n",
       "      <td>284853.000000</td>\n",
       "      <td>97.000000</td>\n",
       "      <td>1.000000</td>\n",
       "      <td>1.000000</td>\n",
       "      <td>0.000000</td>\n",
       "      <td>89.000000</td>\n",
       "      <td>172.000000</td>\n",
       "      <td>31.000000</td>\n",
       "      <td>8.000000</td>\n",
       "    </tr>\n",
       "    <tr>\n",
       "      <th>max</th>\n",
       "      <td>36.000000</td>\n",
       "      <td>388.000000</td>\n",
       "      <td>52.000000</td>\n",
       "      <td>29.000000</td>\n",
       "      <td>58.000000</td>\n",
       "      <td>378884.000000</td>\n",
       "      <td>100.000000</td>\n",
       "      <td>4.000000</td>\n",
       "      <td>1.000000</td>\n",
       "      <td>1.000000</td>\n",
       "      <td>108.000000</td>\n",
       "      <td>196.000000</td>\n",
       "      <td>38.000000</td>\n",
       "      <td>120.000000</td>\n",
       "    </tr>\n",
       "  </tbody>\n",
       "</table>\n",
       "</div>"
      ],
      "text/plain": [
       "               ID  Transportation expense  Distance from Residence to Work  \\\n",
       "count  740.000000              733.000000                       737.000000   \n",
       "mean    18.017568              221.035471                        29.667571   \n",
       "std     11.021247               66.954179                        14.848124   \n",
       "min      1.000000              118.000000                         5.000000   \n",
       "25%      9.000000              179.000000                        16.000000   \n",
       "50%     18.000000              225.000000                        26.000000   \n",
       "75%     28.000000              260.000000                        50.000000   \n",
       "max     36.000000              388.000000                        52.000000   \n",
       "\n",
       "       Service time         Age  Work load Average/day   Hit target  \\\n",
       "count    737.000000  737.000000              730.000000  734.000000   \n",
       "mean      12.565807   36.449118           271188.860274   94.587193   \n",
       "std        4.389813    6.480148            38981.880873    3.792705   \n",
       "min        1.000000   27.000000           205917.000000   81.000000   \n",
       "25%        9.000000   31.000000           244387.000000   93.000000   \n",
       "50%       13.000000   37.000000           264249.000000   95.000000   \n",
       "75%       16.000000   40.000000           284853.000000   97.000000   \n",
       "max       29.000000   58.000000           378884.000000  100.000000   \n",
       "\n",
       "        Education  Social drinker  Social smoker      Weight      Height  \\\n",
       "count  730.000000      737.000000     736.000000  739.000000  726.000000   \n",
       "mean     1.295890        0.567164       0.073370   79.063599  172.152893   \n",
       "std      0.676965        0.495805       0.260919   12.868630    6.081065   \n",
       "min      1.000000        0.000000       0.000000   56.000000  163.000000   \n",
       "25%      1.000000        0.000000       0.000000   69.000000  169.000000   \n",
       "50%      1.000000        1.000000       0.000000   83.000000  170.000000   \n",
       "75%      1.000000        1.000000       0.000000   89.000000  172.000000   \n",
       "max      4.000000        1.000000       1.000000  108.000000  196.000000   \n",
       "\n",
       "       Body mass index  Absenteeism time in hours  \n",
       "count       709.000000                 718.000000  \n",
       "mean         26.684062                   6.977716  \n",
       "std           4.292819                  13.476962  \n",
       "min          19.000000                   0.000000  \n",
       "25%          24.000000                   2.000000  \n",
       "50%          25.000000                   3.000000  \n",
       "75%          31.000000                   8.000000  \n",
       "max          38.000000                 120.000000  "
      ]
     },
     "execution_count": 10,
     "metadata": {},
     "output_type": "execute_result"
    }
   ],
   "source": [
    "data.describe()"
   ]
  },
  {
   "cell_type": "code",
   "execution_count": 11,
   "metadata": {},
   "outputs": [
    {
     "name": "stdout",
     "output_type": "stream",
     "text": [
      "<class 'pandas.core.frame.DataFrame'>\n",
      "RangeIndex: 740 entries, 0 to 739\n",
      "Data columns (total 21 columns):\n",
      "ID                                 740 non-null int64\n",
      "Reason for absence                 737 non-null object\n",
      "Month of absence                   739 non-null object\n",
      "Day of the week                    740 non-null object\n",
      "Seasons                            740 non-null object\n",
      "Transportation expense             733 non-null float64\n",
      "Distance from Residence to Work    737 non-null float64\n",
      "Service time                       737 non-null float64\n",
      "Age                                737 non-null float64\n",
      "Work load Average/day              730 non-null float64\n",
      "Hit target                         734 non-null float64\n",
      "Disciplinary failure               734 non-null object\n",
      "Education                          730 non-null float64\n",
      "Son                                734 non-null object\n",
      "Social drinker                     737 non-null float64\n",
      "Social smoker                      736 non-null float64\n",
      "Pet                                738 non-null object\n",
      "Weight                             739 non-null float64\n",
      "Height                             726 non-null float64\n",
      "Body mass index                    709 non-null float64\n",
      "Absenteeism time in hours          718 non-null float64\n",
      "dtypes: float64(13), int64(1), object(7)\n",
      "memory usage: 121.5+ KB\n"
     ]
    }
   ],
   "source": [
    "data.info()"
   ]
  },
  {
   "cell_type": "code",
   "execution_count": 12,
   "metadata": {},
   "outputs": [
    {
     "name": "stdout",
     "output_type": "stream",
     "text": [
      "(740, 21)\n"
     ]
    },
    {
     "data": {
      "text/plain": [
       "(704, 21)"
      ]
     },
     "execution_count": 12,
     "metadata": {},
     "output_type": "execute_result"
    }
   ],
   "source": [
    "print(data.shape)\n",
    "data=data.loc[data['Absenteeism time in hours']!=0,:]\n",
    "data.shape"
   ]
  },
  {
   "cell_type": "code",
   "execution_count": 13,
   "metadata": {},
   "outputs": [
    {
     "data": {
      "text/plain": [
       "ID                                  0\n",
       "Reason for absence                  3\n",
       "Month of absence                    1\n",
       "Day of the week                     0\n",
       "Seasons                             0\n",
       "Transportation expense              7\n",
       "Distance from Residence to Work     3\n",
       "Service time                        3\n",
       "Age                                 3\n",
       "Work load Average/day              10\n",
       "Hit target                          6\n",
       "Disciplinary failure                6\n",
       "Education                          10\n",
       "Son                                 6\n",
       "Social drinker                      3\n",
       "Social smoker                       4\n",
       "Pet                                 2\n",
       "Weight                              1\n",
       "Height                             13\n",
       "Body mass index                    29\n",
       "Absenteeism time in hours          22\n",
       "dtype: int64"
      ]
     },
     "execution_count": 13,
     "metadata": {},
     "output_type": "execute_result"
    }
   ],
   "source": [
    "data.isnull().sum()"
   ]
  },
  {
   "cell_type": "code",
   "execution_count": 14,
   "metadata": {},
   "outputs": [],
   "source": [
    "\n",
    "cont_vars= ['ID','Distance from Residence to Work', 'Service time', 'Age', 'Work load Average/day ', 'Transportation expense',\n",
    "       'Hit target', 'Weight', 'Height', 'Body mass index', 'Absenteeism time in hours']\n",
    "\n",
    "cat_vars = ['Reason for absence','Month of absence','Day of the week',\n",
    "                     'Seasons','Disciplinary failure', 'Education', 'Social drinker',\n",
    "                     'Social smoker', 'Pet', 'Son']"
   ]
  },
  {
   "cell_type": "code",
   "execution_count": 15,
   "metadata": {},
   "outputs": [
    {
     "data": {
      "text/plain": [
       "78    10\n",
       "85    14\n",
       "91    17\n",
       "Name: ID, dtype: int64"
      ]
     },
     "execution_count": 15,
     "metadata": {},
     "output_type": "execute_result"
    }
   ],
   "source": [
    "data['ID'][data['Social drinker'].isnull()]"
   ]
  },
  {
   "cell_type": "code",
   "execution_count": 16,
   "metadata": {},
   "outputs": [
    {
     "name": "stderr",
     "output_type": "stream",
     "text": [
      "C:\\Users\\Owner\\Anaconda3\\lib\\site-packages\\ipykernel_launcher.py:2: SettingWithCopyWarning: \n",
      "A value is trying to be set on a copy of a slice from a DataFrame\n",
      "\n",
      "See the caveats in the documentation: http://pandas.pydata.org/pandas-docs/stable/indexing.html#indexing-view-versus-copy\n",
      "  \n"
     ]
    }
   ],
   "source": [
    "for i in [10,14,17]:\n",
    "    data['Social drinker'][(data['ID']==i) & (data['Social drinker'].isnull())]=data['Social drinker'][data['ID']==i].mode()[0]"
   ]
  },
  {
   "cell_type": "code",
   "execution_count": 17,
   "metadata": {},
   "outputs": [
    {
     "data": {
      "text/plain": [
       "114    34\n",
       "267     1\n",
       "272    11\n",
       "275    15\n",
       "Name: ID, dtype: int64"
      ]
     },
     "execution_count": 17,
     "metadata": {},
     "output_type": "execute_result"
    }
   ],
   "source": [
    "data['ID'][data['Social smoker'].isnull()]"
   ]
  },
  {
   "cell_type": "code",
   "execution_count": 18,
   "metadata": {},
   "outputs": [
    {
     "name": "stderr",
     "output_type": "stream",
     "text": [
      "C:\\Users\\Owner\\Anaconda3\\lib\\site-packages\\ipykernel_launcher.py:2: SettingWithCopyWarning: \n",
      "A value is trying to be set on a copy of a slice from a DataFrame\n",
      "\n",
      "See the caveats in the documentation: http://pandas.pydata.org/pandas-docs/stable/indexing.html#indexing-view-versus-copy\n",
      "  \n"
     ]
    }
   ],
   "source": [
    "for i in [34,1,11,15]:\n",
    "    data['Social smoker'][(data['ID']==i) & (data['Social smoker'].isnull())]=data['Social smoker'][data['ID']==i].mode()[0]"
   ]
  },
  {
   "cell_type": "code",
   "execution_count": 19,
   "metadata": {},
   "outputs": [
    {
     "data": {
      "text/plain": [
       "77     11\n",
       "109    10\n",
       "110    34\n",
       "115    34\n",
       "116    14\n",
       "127    34\n",
       "128    34\n",
       "131    34\n",
       "268    10\n",
       "274    24\n",
       "Name: ID, dtype: int64"
      ]
     },
     "execution_count": 19,
     "metadata": {},
     "output_type": "execute_result"
    }
   ],
   "source": [
    "data['ID'][data['Education'].isnull()]"
   ]
  },
  {
   "cell_type": "code",
   "execution_count": 20,
   "metadata": {},
   "outputs": [
    {
     "name": "stderr",
     "output_type": "stream",
     "text": [
      "C:\\Users\\Owner\\Anaconda3\\lib\\site-packages\\ipykernel_launcher.py:2: SettingWithCopyWarning: \n",
      "A value is trying to be set on a copy of a slice from a DataFrame\n",
      "\n",
      "See the caveats in the documentation: http://pandas.pydata.org/pandas-docs/stable/indexing.html#indexing-view-versus-copy\n",
      "  \n"
     ]
    }
   ],
   "source": [
    "for i in [11,10,34,14,24]:\n",
    "    data['Education'][(data['ID']==i) & (data['Education'].isnull())]=data['Education'][data['ID']==i].mode()[0]"
   ]
  },
  {
   "cell_type": "code",
   "execution_count": 21,
   "metadata": {},
   "outputs": [
    {
     "data": {
      "text/plain": [
       "ID                                  0\n",
       "Reason for absence                  3\n",
       "Month of absence                    1\n",
       "Day of the week                     0\n",
       "Seasons                             0\n",
       "Transportation expense              7\n",
       "Distance from Residence to Work     3\n",
       "Service time                        3\n",
       "Age                                 3\n",
       "Work load Average/day              10\n",
       "Hit target                          6\n",
       "Disciplinary failure                6\n",
       "Education                           0\n",
       "Son                                 6\n",
       "Social drinker                      0\n",
       "Social smoker                       0\n",
       "Pet                                 2\n",
       "Weight                              1\n",
       "Height                             13\n",
       "Body mass index                    29\n",
       "Absenteeism time in hours          22\n",
       "dtype: int64"
      ]
     },
     "execution_count": 21,
     "metadata": {},
     "output_type": "execute_result"
    }
   ],
   "source": [
    "data.isnull().sum()"
   ]
  },
  {
   "cell_type": "code",
   "execution_count": 22,
   "metadata": {},
   "outputs": [
    {
     "data": {
      "text/plain": [
       "ID                                   int64\n",
       "Reason for absence                  object\n",
       "Month of absence                    object\n",
       "Day of the week                     object\n",
       "Seasons                             object\n",
       "Transportation expense             float64\n",
       "Distance from Residence to Work    float64\n",
       "Service time                       float64\n",
       "Age                                float64\n",
       "Work load Average/day              float64\n",
       "Hit target                         float64\n",
       "Disciplinary failure                object\n",
       "Education                           object\n",
       "Son                                 object\n",
       "Social drinker                      object\n",
       "Social smoker                       object\n",
       "Pet                                 object\n",
       "Weight                             float64\n",
       "Height                             float64\n",
       "Body mass index                    float64\n",
       "Absenteeism time in hours          float64\n",
       "dtype: object"
      ]
     },
     "execution_count": 22,
     "metadata": {},
     "output_type": "execute_result"
    }
   ],
   "source": [
    "data['Education']=data['Education'].astype(object)\n",
    "data['Social drinker']=data['Social drinker'].astype(object)\n",
    "data['Social smoker']=data['Social smoker'].astype(object)\n",
    "data.dtypes"
   ]
  },
  {
   "cell_type": "code",
   "execution_count": 23,
   "metadata": {},
   "outputs": [],
   "source": [
    " # !pip install fancyimpute"
   ]
  },
  {
   "cell_type": "code",
   "execution_count": 24,
   "metadata": {},
   "outputs": [],
   "source": [
    "#Knn imputation\n",
    "#data= pd.DataFrame(KNN(k = 5).fit_transform(data), columns =data.columns)"
   ]
  },
  {
   "cell_type": "code",
   "execution_count": 25,
   "metadata": {},
   "outputs": [],
   "source": [
    "#import sys\n",
    "#sys.version"
   ]
  },
  {
   "cell_type": "code",
   "execution_count": 26,
   "metadata": {},
   "outputs": [
    {
     "data": {
      "text/plain": [
       "ID                                   int64\n",
       "Reason for absence                   int64\n",
       "Month of absence                     int64\n",
       "Day of the week                      int64\n",
       "Seasons                              int64\n",
       "Transportation expense             float64\n",
       "Distance from Residence to Work      int64\n",
       "Service time                       float64\n",
       "Age                                float64\n",
       "Work load Average/day              float64\n",
       "Hit target                         float64\n",
       "Disciplinary failure                 int64\n",
       "Education                            int64\n",
       "Son                                  int64\n",
       "Social drinker                       int64\n",
       "Social smoker                        int64\n",
       "Pet                                  int64\n",
       "Weight                             float64\n",
       "Height                             float64\n",
       "Body mass index                    float64\n",
       "Absenteeism time in hours          float64\n",
       "dtype: object"
      ]
     },
     "execution_count": 26,
     "metadata": {},
     "output_type": "execute_result"
    }
   ],
   "source": [
    "# Reading data after imputing NA values by KNN method in r\n",
    "data=pd.read_csv('d1.csv')\n",
    "data.columns=['ID', 'Reason for absence', 'Month of absence', 'Day of the week',\n",
    "       'Seasons', 'Transportation expense', 'Distance from Residence to Work',\n",
    "       'Service time', 'Age', 'Work load Average/day ', 'Hit target',\n",
    "       'Disciplinary failure', 'Education', 'Son', 'Social drinker',\n",
    "       'Social smoker', 'Pet', 'Weight', 'Height', 'Body mass index',\n",
    "       'Absenteeism time in hours']\n",
    "data.dtypes"
   ]
  },
  {
   "cell_type": "code",
   "execution_count": 27,
   "metadata": {},
   "outputs": [
    {
     "data": {
      "text/plain": [
       "ID                                   int64\n",
       "Reason for absence                  object\n",
       "Month of absence                    object\n",
       "Day of the week                     object\n",
       "Seasons                             object\n",
       "Transportation expense             float64\n",
       "Distance from Residence to Work      int64\n",
       "Service time                       float64\n",
       "Age                                float64\n",
       "Work load Average/day              float64\n",
       "Hit target                         float64\n",
       "Disciplinary failure                object\n",
       "Education                           object\n",
       "Son                                 object\n",
       "Social drinker                      object\n",
       "Social smoker                       object\n",
       "Pet                                 object\n",
       "Weight                             float64\n",
       "Height                             float64\n",
       "Body mass index                    float64\n",
       "Absenteeism time in hours          float64\n",
       "dtype: object"
      ]
     },
     "execution_count": 27,
     "metadata": {},
     "output_type": "execute_result"
    }
   ],
   "source": [
    "data['Reason for absence']=data['Reason for absence'].astype(object)\n",
    "data['Month of absence']=data['Month of absence'].astype(object)\n",
    "data['Day of the week']=data['Day of the week'].astype(object)\n",
    "data['Seasons']=data['Seasons'].astype(object)\n",
    "data['Disciplinary failure']=data['Disciplinary failure'].astype(object)\n",
    "data['Son']=data['Son'].astype(object)\n",
    "data['Pet']=data['Pet'].astype(object)\n",
    "data['Education']=data['Education'].astype(object)\n",
    "data['Social drinker']=data['Social drinker'].astype(object)\n",
    "data['Social smoker']=data['Social smoker'].astype(object)\n",
    "data.dtypes"
   ]
  },
  {
   "cell_type": "code",
   "execution_count": 28,
   "metadata": {},
   "outputs": [
    {
     "data": {
      "text/plain": [
       "(704, 21)"
      ]
     },
     "execution_count": 28,
     "metadata": {},
     "output_type": "execute_result"
    }
   ],
   "source": [
    "data.isnull().sum()\n",
    "data.shape"
   ]
  },
  {
   "cell_type": "code",
   "execution_count": 29,
   "metadata": {},
   "outputs": [
    {
     "data": {
      "text/plain": [
       "72"
      ]
     },
     "execution_count": 29,
     "metadata": {},
     "output_type": "execute_result"
    }
   ],
   "source": [
    "t=0\n",
    "for i in cont_vars:\n",
    "    mean =data[i].mean()\n",
    "    sd = data[i].std()\n",
    "    t=t+((data[i] < mean - 3*sd) | (data[i] > mean + 3*sd)).sum()\n",
    "t   # 72 outliers"
   ]
  },
  {
   "cell_type": "code",
   "execution_count": 30,
   "metadata": {},
   "outputs": [
    {
     "name": "stderr",
     "output_type": "stream",
     "text": [
      "C:\\Users\\Owner\\Anaconda3\\lib\\site-packages\\ipykernel_launcher.py:5: SettingWithCopyWarning: \n",
      "A value is trying to be set on a copy of a slice from a DataFrame\n",
      "\n",
      "See the caveats in the documentation: http://pandas.pydata.org/pandas-docs/stable/indexing.html#indexing-view-versus-copy\n",
      "  \"\"\"\n"
     ]
    },
    {
     "data": {
      "text/plain": [
       "ID                                  0\n",
       "Reason for absence                  0\n",
       "Month of absence                    0\n",
       "Day of the week                     0\n",
       "Seasons                             0\n",
       "Transportation expense              0\n",
       "Distance from Residence to Work     0\n",
       "Service time                        5\n",
       "Age                                 8\n",
       "Work load Average/day               0\n",
       "Hit target                         15\n",
       "Disciplinary failure                0\n",
       "Education                           0\n",
       "Son                                 0\n",
       "Social drinker                      0\n",
       "Social smoker                       0\n",
       "Pet                                 0\n",
       "Weight                              0\n",
       "Height                             29\n",
       "Body mass index                     0\n",
       "Absenteeism time in hours          15\n",
       "dtype: int64"
      ]
     },
     "execution_count": 30,
     "metadata": {},
     "output_type": "execute_result"
    }
   ],
   "source": [
    "# let's replace outliers with NA and impute them with median\n",
    "for i in cont_vars:\n",
    "    mean =data[i].mean()\n",
    "    sd = data[i].std()\n",
    "    data[i][((data[i] < mean - 3*sd) | (data[i] > mean + 3*sd))]=np.NAN\n",
    "data.isnull().sum()"
   ]
  },
  {
   "cell_type": "code",
   "execution_count": 31,
   "metadata": {},
   "outputs": [
    {
     "data": {
      "text/plain": [
       "225    32\n",
       "481    32\n",
       "484    32\n",
       "487    32\n",
       "547    32\n",
       "Name: ID, dtype: int64"
      ]
     },
     "execution_count": 31,
     "metadata": {},
     "output_type": "execute_result"
    }
   ],
   "source": [
    "data['ID'][data['Service time'].isnull()]"
   ]
  },
  {
   "cell_type": "code",
   "execution_count": 32,
   "metadata": {},
   "outputs": [
    {
     "name": "stderr",
     "output_type": "stream",
     "text": [
      "C:\\Users\\Owner\\Anaconda3\\lib\\site-packages\\ipykernel_launcher.py:1: SettingWithCopyWarning: \n",
      "A value is trying to be set on a copy of a slice from a DataFrame\n",
      "\n",
      "See the caveats in the documentation: http://pandas.pydata.org/pandas-docs/stable/indexing.html#indexing-view-versus-copy\n",
      "  \"\"\"Entry point for launching an IPython kernel.\n"
     ]
    }
   ],
   "source": [
    "data['Service time'][(data['ID']==32) & (data['Service time'].isnull())]=data['Service time'].median()"
   ]
  },
  {
   "cell_type": "code",
   "execution_count": 33,
   "metadata": {},
   "outputs": [
    {
     "name": "stderr",
     "output_type": "stream",
     "text": [
      "C:\\Users\\Owner\\Anaconda3\\lib\\site-packages\\ipykernel_launcher.py:2: SettingWithCopyWarning: \n",
      "A value is trying to be set on a copy of a slice from a DataFrame\n",
      "\n",
      "See the caveats in the documentation: http://pandas.pydata.org/pandas-docs/stable/indexing.html#indexing-view-versus-copy\n",
      "  \n"
     ]
    }
   ],
   "source": [
    "data['ID'][data['Age'].isnull()]\n",
    "data['Age'][(data['ID']==9) & (data['Age'].isnull())]=data['Age'].median()"
   ]
  },
  {
   "cell_type": "code",
   "execution_count": 34,
   "metadata": {},
   "outputs": [
    {
     "name": "stderr",
     "output_type": "stream",
     "text": [
      "C:\\Users\\Owner\\Anaconda3\\lib\\site-packages\\ipykernel_launcher.py:3: SettingWithCopyWarning: \n",
      "A value is trying to be set on a copy of a slice from a DataFrame\n",
      "\n",
      "See the caveats in the documentation: http://pandas.pydata.org/pandas-docs/stable/indexing.html#indexing-view-versus-copy\n",
      "  This is separate from the ipykernel package so we can avoid doing imports until\n"
     ]
    }
   ],
   "source": [
    "data['ID'][data['Height'].isnull()]\n",
    "for i in [14,30]:\n",
    "    data['Height'][(data['ID']==i) & (data['Height'].isnull())]=data['Height'].median()"
   ]
  },
  {
   "cell_type": "code",
   "execution_count": 35,
   "metadata": {},
   "outputs": [
    {
     "name": "stderr",
     "output_type": "stream",
     "text": [
      "C:\\Users\\Owner\\Anaconda3\\lib\\site-packages\\ipykernel_launcher.py:2: SettingWithCopyWarning: \n",
      "A value is trying to be set on a copy of a slice from a DataFrame\n",
      "\n",
      "See the caveats in the documentation: http://pandas.pydata.org/pandas-docs/stable/indexing.html#indexing-view-versus-copy\n",
      "  \n"
     ]
    }
   ],
   "source": [
    "for i in ['Hit target','Absenteeism time in hours']:\n",
    "        data[i][data[i].isnull()]=data[i].mode()[0]\n"
   ]
  },
  {
   "cell_type": "code",
   "execution_count": 36,
   "metadata": {},
   "outputs": [],
   "source": [
    "data['Absenteeism time in hours']=data['Absenteeism time in hours'].round()"
   ]
  },
  {
   "cell_type": "raw",
   "metadata": {},
   "source": [
    "data.isnull().sum()\n",
    "#Convert into proper datatypes\n",
    "for i in cat_vars:\n",
    "    data.loc[:,i] = data.loc[:,i].round()\n",
    "    data.loc[:,i] = data.loc[:,i].astype('object')"
   ]
  },
  {
   "cell_type": "code",
   "execution_count": 37,
   "metadata": {},
   "outputs": [
    {
     "data": {
      "text/html": [
       "<div>\n",
       "<style scoped>\n",
       "    .dataframe tbody tr th:only-of-type {\n",
       "        vertical-align: middle;\n",
       "    }\n",
       "\n",
       "    .dataframe tbody tr th {\n",
       "        vertical-align: top;\n",
       "    }\n",
       "\n",
       "    .dataframe thead th {\n",
       "        text-align: right;\n",
       "    }\n",
       "</style>\n",
       "<table border=\"1\" class=\"dataframe\">\n",
       "  <thead>\n",
       "    <tr style=\"text-align: right;\">\n",
       "      <th></th>\n",
       "      <th>ID</th>\n",
       "      <th>Reason for absence</th>\n",
       "      <th>Month of absence</th>\n",
       "      <th>Day of the week</th>\n",
       "      <th>Seasons</th>\n",
       "      <th>Transportation expense</th>\n",
       "      <th>Distance from Residence to Work</th>\n",
       "      <th>Service time</th>\n",
       "      <th>Age</th>\n",
       "      <th>Work load Average/day</th>\n",
       "      <th>...</th>\n",
       "      <th>Disciplinary failure</th>\n",
       "      <th>Education</th>\n",
       "      <th>Son</th>\n",
       "      <th>Social drinker</th>\n",
       "      <th>Social smoker</th>\n",
       "      <th>Pet</th>\n",
       "      <th>Weight</th>\n",
       "      <th>Height</th>\n",
       "      <th>Body mass index</th>\n",
       "      <th>Absenteeism time in hours</th>\n",
       "    </tr>\n",
       "  </thead>\n",
       "  <tbody>\n",
       "    <tr>\n",
       "      <th>0</th>\n",
       "      <td>11</td>\n",
       "      <td>26</td>\n",
       "      <td>7</td>\n",
       "      <td>3</td>\n",
       "      <td>1</td>\n",
       "      <td>289.0</td>\n",
       "      <td>36</td>\n",
       "      <td>13.0</td>\n",
       "      <td>33.0</td>\n",
       "      <td>239554.0</td>\n",
       "      <td>...</td>\n",
       "      <td>0</td>\n",
       "      <td>1</td>\n",
       "      <td>2</td>\n",
       "      <td>1</td>\n",
       "      <td>0</td>\n",
       "      <td>1</td>\n",
       "      <td>90.0</td>\n",
       "      <td>172.0</td>\n",
       "      <td>30.0</td>\n",
       "      <td>4.0</td>\n",
       "    </tr>\n",
       "    <tr>\n",
       "      <th>1</th>\n",
       "      <td>3</td>\n",
       "      <td>23</td>\n",
       "      <td>7</td>\n",
       "      <td>4</td>\n",
       "      <td>1</td>\n",
       "      <td>179.0</td>\n",
       "      <td>51</td>\n",
       "      <td>18.0</td>\n",
       "      <td>38.0</td>\n",
       "      <td>239554.0</td>\n",
       "      <td>...</td>\n",
       "      <td>0</td>\n",
       "      <td>1</td>\n",
       "      <td>0</td>\n",
       "      <td>1</td>\n",
       "      <td>0</td>\n",
       "      <td>0</td>\n",
       "      <td>89.0</td>\n",
       "      <td>170.0</td>\n",
       "      <td>31.0</td>\n",
       "      <td>2.0</td>\n",
       "    </tr>\n",
       "    <tr>\n",
       "      <th>2</th>\n",
       "      <td>7</td>\n",
       "      <td>7</td>\n",
       "      <td>7</td>\n",
       "      <td>5</td>\n",
       "      <td>1</td>\n",
       "      <td>279.0</td>\n",
       "      <td>5</td>\n",
       "      <td>14.0</td>\n",
       "      <td>39.0</td>\n",
       "      <td>239554.0</td>\n",
       "      <td>...</td>\n",
       "      <td>0</td>\n",
       "      <td>1</td>\n",
       "      <td>2</td>\n",
       "      <td>1</td>\n",
       "      <td>1</td>\n",
       "      <td>0</td>\n",
       "      <td>68.0</td>\n",
       "      <td>168.0</td>\n",
       "      <td>24.0</td>\n",
       "      <td>4.0</td>\n",
       "    </tr>\n",
       "    <tr>\n",
       "      <th>3</th>\n",
       "      <td>11</td>\n",
       "      <td>23</td>\n",
       "      <td>7</td>\n",
       "      <td>5</td>\n",
       "      <td>1</td>\n",
       "      <td>289.0</td>\n",
       "      <td>36</td>\n",
       "      <td>13.0</td>\n",
       "      <td>33.0</td>\n",
       "      <td>239554.0</td>\n",
       "      <td>...</td>\n",
       "      <td>0</td>\n",
       "      <td>1</td>\n",
       "      <td>2</td>\n",
       "      <td>1</td>\n",
       "      <td>0</td>\n",
       "      <td>1</td>\n",
       "      <td>90.0</td>\n",
       "      <td>172.0</td>\n",
       "      <td>30.0</td>\n",
       "      <td>2.0</td>\n",
       "    </tr>\n",
       "    <tr>\n",
       "      <th>4</th>\n",
       "      <td>3</td>\n",
       "      <td>23</td>\n",
       "      <td>7</td>\n",
       "      <td>6</td>\n",
       "      <td>1</td>\n",
       "      <td>179.0</td>\n",
       "      <td>51</td>\n",
       "      <td>18.0</td>\n",
       "      <td>38.0</td>\n",
       "      <td>239554.0</td>\n",
       "      <td>...</td>\n",
       "      <td>0</td>\n",
       "      <td>1</td>\n",
       "      <td>0</td>\n",
       "      <td>1</td>\n",
       "      <td>0</td>\n",
       "      <td>0</td>\n",
       "      <td>89.0</td>\n",
       "      <td>170.0</td>\n",
       "      <td>31.0</td>\n",
       "      <td>3.0</td>\n",
       "    </tr>\n",
       "  </tbody>\n",
       "</table>\n",
       "<p>5 rows × 21 columns</p>\n",
       "</div>"
      ],
      "text/plain": [
       "   ID Reason for absence Month of absence Day of the week Seasons  \\\n",
       "0  11                 26                7               3       1   \n",
       "1   3                 23                7               4       1   \n",
       "2   7                  7                7               5       1   \n",
       "3  11                 23                7               5       1   \n",
       "4   3                 23                7               6       1   \n",
       "\n",
       "   Transportation expense  Distance from Residence to Work  Service time  \\\n",
       "0                   289.0                               36          13.0   \n",
       "1                   179.0                               51          18.0   \n",
       "2                   279.0                                5          14.0   \n",
       "3                   289.0                               36          13.0   \n",
       "4                   179.0                               51          18.0   \n",
       "\n",
       "    Age  Work load Average/day             ...              \\\n",
       "0  33.0                239554.0            ...               \n",
       "1  38.0                239554.0            ...               \n",
       "2  39.0                239554.0            ...               \n",
       "3  33.0                239554.0            ...               \n",
       "4  38.0                239554.0            ...               \n",
       "\n",
       "   Disciplinary failure Education Son Social drinker Social smoker Pet Weight  \\\n",
       "0                     0         1   2              1             0   1   90.0   \n",
       "1                     0         1   0              1             0   0   89.0   \n",
       "2                     0         1   2              1             1   0   68.0   \n",
       "3                     0         1   2              1             0   1   90.0   \n",
       "4                     0         1   0              1             0   0   89.0   \n",
       "\n",
       "   Height  Body mass index  Absenteeism time in hours  \n",
       "0   172.0             30.0                        4.0  \n",
       "1   170.0             31.0                        2.0  \n",
       "2   168.0             24.0                        4.0  \n",
       "3   172.0             30.0                        2.0  \n",
       "4   170.0             31.0                        3.0  \n",
       "\n",
       "[5 rows x 21 columns]"
      ]
     },
     "execution_count": 37,
     "metadata": {},
     "output_type": "execute_result"
    }
   ],
   "source": [
    "data.head()"
   ]
  },
  {
   "cell_type": "code",
   "execution_count": 38,
   "metadata": {},
   "outputs": [
    {
     "data": {
      "text/plain": [
       "ID                                   int64\n",
       "Reason for absence                  object\n",
       "Month of absence                    object\n",
       "Day of the week                     object\n",
       "Seasons                             object\n",
       "Transportation expense             float64\n",
       "Distance from Residence to Work      int64\n",
       "Service time                       float64\n",
       "Age                                float64\n",
       "Work load Average/day              float64\n",
       "Hit target                         float64\n",
       "Disciplinary failure                object\n",
       "Education                           object\n",
       "Son                                 object\n",
       "Social drinker                      object\n",
       "Social smoker                       object\n",
       "Pet                                 object\n",
       "Weight                             float64\n",
       "Height                             float64\n",
       "Body mass index                    float64\n",
       "Absenteeism time in hours          float64\n",
       "dtype: object"
      ]
     },
     "execution_count": 38,
     "metadata": {},
     "output_type": "execute_result"
    }
   ],
   "source": [
    "data['Reason for absence']=data['Reason for absence'].astype(object)\n",
    "data['Month of absence']=data['Month of absence'].astype(object)\n",
    "data['Day of the week']=data['Day of the week'].astype(object)\n",
    "data['Seasons']=data['Seasons'].astype(object)\n",
    "data['Disciplinary failure']=data['Disciplinary failure'].astype(object)\n",
    "data['Son']=data['Son'].astype(object)\n",
    "data['Pet']=data['Pet'].astype(object)\n",
    "data['Education']=data['Education'].astype(object)\n",
    "data['Social drinker']=data['Social drinker'].astype(object)\n",
    "data['Social smoker']=data['Social smoker'].astype(object)\n",
    "data.dtypes"
   ]
  },
  {
   "cell_type": "code",
   "execution_count": 39,
   "metadata": {},
   "outputs": [],
   "source": [
    "#PROBLEM1: What changes company should bring to reduce number of absenteeism ?\n",
    "#Let's visualize \n",
    "def plot(x,y):\n",
    "    data1 = data.groupby(x)[y].sum()\n",
    "    data1 = data1*100/sum(data1)\n",
    "    data1=pd.DataFrame(data1)\n",
    "    data1=data1.round()\n",
    "    data1['t']=data1.index\n",
    "    data1.reset_index\n",
    "    sns.boxplot(x='t',y=y,data=data1)"
   ]
  },
  {
   "cell_type": "code",
   "execution_count": 40,
   "metadata": {
    "scrolled": true
   },
   "outputs": [
    {
     "data": {
      "image/png": "[encoded data removed]",
      "text/plain": [
       "<matplotlib.figure.Figure at 0x29d81cb05f8>"
      ]
     },
     "metadata": {},
     "output_type": "display_data"
    }
   ],
   "source": [
    "#Seasons (summer (1), autumn (2), winter (3), spring (4))\n",
    "plot('Seasons','Absenteeism time in hours')"
   ]
  },
  {
   "cell_type": "markdown",
   "metadata": {},
   "source": [
    "Employees tend to take leave in winter season more than 25 % of time"
   ]
  },
  {
   "cell_type": "code",
   "execution_count": 41,
   "metadata": {
    "scrolled": false
   },
   "outputs": [
    {
     "data": {
      "image/png": "[encoded data removed]",
      "text/plain": [
       "<matplotlib.figure.Figure at 0x29dff633208>"
      ]
     },
     "metadata": {},
     "output_type": "display_data"
    }
   ],
   "source": [
    "#Education (high school (1), graduate (2), postgraduate (3), master and doctor (4)\n",
    "plot('Education','Absenteeism time in hours')"
   ]
  },
  {
   "cell_type": "markdown",
   "metadata": {},
   "source": [
    "employees whose education background is high school take 80 percent of absenteeism time in hours "
   ]
  },
  {
   "cell_type": "code",
   "execution_count": 42,
   "metadata": {},
   "outputs": [
    {
     "data": {
      "image/png": "[encoded data removed]",
      "text/plain": [
       "<matplotlib.figure.Figure at 0x29d81ee36d8>"
      ]
     },
     "metadata": {},
     "output_type": "display_data"
    }
   ],
   "source": [
    "plot('Reason for absence','Absenteeism time in hours')"
   ]
  },
  {
   "cell_type": "markdown",
   "metadata": {},
   "source": [
    " 23 =>  medical consultation   (Employees with this reason are absent for more than 12.5% of total time)\n",
    " 13  =>  Diseases of the musculoskeletal system and connective tissue   (Employees with this reason are absent for 10% of total time)\n",
    " 28 => dental consultation (28) (Employees with this reason are absent for around 9% of total time)\n",
    " 19 =>Injury, poisoning and certain other consequences of external causes \n",
    " 22  =>  7 categories without (CID) patient follow-up  (Employees with this reason are absent for around 8% of total time)\n",
    " 26 => unjustified absence (26) (Employees with this reason are absent for around 8% of total time)\n",
    " 27,10,11,18,1,14,25 => between 2.5 to 5 percent"
   ]
  },
  {
   "cell_type": "code",
   "execution_count": 43,
   "metadata": {},
   "outputs": [
    {
     "data": {
      "image/png": "[encoded data removed]",
      "text/plain": [
       "<matplotlib.figure.Figure at 0x29d8308c668>"
      ]
     },
     "metadata": {},
     "output_type": "display_data"
    }
   ],
   "source": [
    "plot('Month of absence','Absenteeism time in hours')"
   ]
  },
  {
   "cell_type": "markdown",
   "metadata": {},
   "source": [
    "3 => march => employee in month of march tend to absent of about 13% of time\n",
    "7=> july => employee in month of march tend to absent of about 11% of time"
   ]
  },
  {
   "cell_type": "markdown",
   "metadata": {},
   "source": [
    "#PROBLEM1: What changes company should bring to reduce number of absenteeism ?\n",
    "\n",
    "1.Company should provide hygienic working conditions (Providing safety and health measures).\n",
    "2.Service time should be around  12 hours or less than that. (High workload leads to high absenteeism time)\n",
    "3. Providing leave facility based on employee's needs and organizational requirement\n",
    "4.Events can be organised in month of march and july .So there is a good chance to reduce absenteeism\n",
    "5.To reduce absenteeism it's better not to hire people who have diseases of musculoskelatal system and connective tissue complaints\n",
    "\n",
    "\n"
   ]
  },
  {
   "cell_type": "code",
   "execution_count": 44,
   "metadata": {},
   "outputs": [
    {
     "data": {
      "text/html": [
       "<div>\n",
       "<style scoped>\n",
       "    .dataframe tbody tr th:only-of-type {\n",
       "        vertical-align: middle;\n",
       "    }\n",
       "\n",
       "    .dataframe tbody tr th {\n",
       "        vertical-align: top;\n",
       "    }\n",
       "\n",
       "    .dataframe thead th {\n",
       "        text-align: right;\n",
       "    }\n",
       "</style>\n",
       "<table border=\"1\" class=\"dataframe\">\n",
       "  <thead>\n",
       "    <tr style=\"text-align: right;\">\n",
       "      <th></th>\n",
       "      <th>Month of absence</th>\n",
       "      <th>avg_loss</th>\n",
       "    </tr>\n",
       "  </thead>\n",
       "  <tbody>\n",
       "    <tr>\n",
       "      <th>0</th>\n",
       "      <td>1</td>\n",
       "      <td>222.0</td>\n",
       "    </tr>\n",
       "    <tr>\n",
       "      <th>1</th>\n",
       "      <td>2</td>\n",
       "      <td>297.0</td>\n",
       "    </tr>\n",
       "    <tr>\n",
       "      <th>2</th>\n",
       "      <td>3</td>\n",
       "      <td>564.0</td>\n",
       "    </tr>\n",
       "    <tr>\n",
       "      <th>3</th>\n",
       "      <td>4</td>\n",
       "      <td>322.0</td>\n",
       "    </tr>\n",
       "    <tr>\n",
       "      <th>4</th>\n",
       "      <td>5</td>\n",
       "      <td>341.0</td>\n",
       "    </tr>\n",
       "    <tr>\n",
       "      <th>5</th>\n",
       "      <td>6</td>\n",
       "      <td>343.0</td>\n",
       "    </tr>\n",
       "    <tr>\n",
       "      <th>6</th>\n",
       "      <td>7</td>\n",
       "      <td>444.0</td>\n",
       "    </tr>\n",
       "    <tr>\n",
       "      <th>7</th>\n",
       "      <td>8</td>\n",
       "      <td>286.0</td>\n",
       "    </tr>\n",
       "    <tr>\n",
       "      <th>8</th>\n",
       "      <td>9</td>\n",
       "      <td>293.0</td>\n",
       "    </tr>\n",
       "    <tr>\n",
       "      <th>9</th>\n",
       "      <td>10</td>\n",
       "      <td>295.0</td>\n",
       "    </tr>\n",
       "    <tr>\n",
       "      <th>10</th>\n",
       "      <td>11</td>\n",
       "      <td>370.0</td>\n",
       "    </tr>\n",
       "    <tr>\n",
       "      <th>11</th>\n",
       "      <td>12</td>\n",
       "      <td>207.0</td>\n",
       "    </tr>\n",
       "  </tbody>\n",
       "</table>\n",
       "</div>"
      ],
      "text/plain": [
       "    Month of absence  avg_loss\n",
       "0                  1     222.0\n",
       "1                  2     297.0\n",
       "2                  3     564.0\n",
       "3                  4     322.0\n",
       "4                  5     341.0\n",
       "5                  6     343.0\n",
       "6                  7     444.0\n",
       "7                  8     286.0\n",
       "8                  9     293.0\n",
       "9                 10     295.0\n",
       "10                11     370.0\n",
       "11                12     207.0"
      ]
     },
     "execution_count": 44,
     "metadata": {},
     "output_type": "execute_result"
    }
   ],
   "source": [
    "#Time series analysis\n",
    "emp = data.groupby('Month of absence')['Absenteeism time in hours'].sum()\n",
    "emp=emp.reset_index()\n",
    "emp.columns=['Month of absence','avg_loss']\n",
    "emp"
   ]
  },
  {
   "cell_type": "code",
   "execution_count": 45,
   "metadata": {},
   "outputs": [],
   "source": [
    "# data is recorded from july 2007 to july 2010 \n",
    " #to get loss per month ,we divide absenteeism time in hours by 3..july should be divided by 4."
   ]
  },
  {
   "cell_type": "code",
   "execution_count": 46,
   "metadata": {},
   "outputs": [
    {
     "data": {
      "text/html": [
       "<div>\n",
       "<style scoped>\n",
       "    .dataframe tbody tr th:only-of-type {\n",
       "        vertical-align: middle;\n",
       "    }\n",
       "\n",
       "    .dataframe tbody tr th {\n",
       "        vertical-align: top;\n",
       "    }\n",
       "\n",
       "    .dataframe thead th {\n",
       "        text-align: right;\n",
       "    }\n",
       "</style>\n",
       "<table border=\"1\" class=\"dataframe\">\n",
       "  <thead>\n",
       "    <tr style=\"text-align: right;\">\n",
       "      <th></th>\n",
       "      <th>Month of absence</th>\n",
       "      <th>avg_loss</th>\n",
       "    </tr>\n",
       "  </thead>\n",
       "  <tbody>\n",
       "    <tr>\n",
       "      <th>0</th>\n",
       "      <td>1</td>\n",
       "      <td>74.000000</td>\n",
       "    </tr>\n",
       "    <tr>\n",
       "      <th>1</th>\n",
       "      <td>2</td>\n",
       "      <td>99.000000</td>\n",
       "    </tr>\n",
       "    <tr>\n",
       "      <th>2</th>\n",
       "      <td>3</td>\n",
       "      <td>188.000000</td>\n",
       "    </tr>\n",
       "    <tr>\n",
       "      <th>3</th>\n",
       "      <td>4</td>\n",
       "      <td>107.333333</td>\n",
       "    </tr>\n",
       "    <tr>\n",
       "      <th>4</th>\n",
       "      <td>5</td>\n",
       "      <td>113.666667</td>\n",
       "    </tr>\n",
       "    <tr>\n",
       "      <th>5</th>\n",
       "      <td>6</td>\n",
       "      <td>114.333333</td>\n",
       "    </tr>\n",
       "    <tr>\n",
       "      <th>6</th>\n",
       "      <td>7</td>\n",
       "      <td>148.000000</td>\n",
       "    </tr>\n",
       "    <tr>\n",
       "      <th>7</th>\n",
       "      <td>8</td>\n",
       "      <td>95.333333</td>\n",
       "    </tr>\n",
       "    <tr>\n",
       "      <th>8</th>\n",
       "      <td>9</td>\n",
       "      <td>97.666667</td>\n",
       "    </tr>\n",
       "    <tr>\n",
       "      <th>9</th>\n",
       "      <td>10</td>\n",
       "      <td>98.333333</td>\n",
       "    </tr>\n",
       "    <tr>\n",
       "      <th>10</th>\n",
       "      <td>11</td>\n",
       "      <td>123.333333</td>\n",
       "    </tr>\n",
       "    <tr>\n",
       "      <th>11</th>\n",
       "      <td>12</td>\n",
       "      <td>69.000000</td>\n",
       "    </tr>\n",
       "  </tbody>\n",
       "</table>\n",
       "</div>"
      ],
      "text/plain": [
       "    Month of absence    avg_loss\n",
       "0                  1   74.000000\n",
       "1                  2   99.000000\n",
       "2                  3  188.000000\n",
       "3                  4  107.333333\n",
       "4                  5  113.666667\n",
       "5                  6  114.333333\n",
       "6                  7  148.000000\n",
       "7                  8   95.333333\n",
       "8                  9   97.666667\n",
       "9                 10   98.333333\n",
       "10                11  123.333333\n",
       "11                12   69.000000"
      ]
     },
     "execution_count": 46,
     "metadata": {},
     "output_type": "execute_result"
    }
   ],
   "source": [
    "emp['avg_loss'] = emp['avg_loss']/3\n",
    "emp"
   ]
  },
  {
   "cell_type": "code",
   "execution_count": 47,
   "metadata": {},
   "outputs": [],
   "source": [
    "emp.loc[6,'avg_loss']=emp.loc[6,'avg_loss']*3/4"
   ]
  },
  {
   "cell_type": "code",
   "execution_count": 48,
   "metadata": {},
   "outputs": [
    {
     "data": {
      "text/html": [
       "<div>\n",
       "<style scoped>\n",
       "    .dataframe tbody tr th:only-of-type {\n",
       "        vertical-align: middle;\n",
       "    }\n",
       "\n",
       "    .dataframe tbody tr th {\n",
       "        vertical-align: top;\n",
       "    }\n",
       "\n",
       "    .dataframe thead th {\n",
       "        text-align: right;\n",
       "    }\n",
       "</style>\n",
       "<table border=\"1\" class=\"dataframe\">\n",
       "  <thead>\n",
       "    <tr style=\"text-align: right;\">\n",
       "      <th></th>\n",
       "      <th>Month of absence</th>\n",
       "      <th>avg_loss</th>\n",
       "    </tr>\n",
       "  </thead>\n",
       "  <tbody>\n",
       "    <tr>\n",
       "      <th>0</th>\n",
       "      <td>1</td>\n",
       "      <td>74</td>\n",
       "    </tr>\n",
       "    <tr>\n",
       "      <th>1</th>\n",
       "      <td>2</td>\n",
       "      <td>99</td>\n",
       "    </tr>\n",
       "    <tr>\n",
       "      <th>2</th>\n",
       "      <td>3</td>\n",
       "      <td>188</td>\n",
       "    </tr>\n",
       "    <tr>\n",
       "      <th>3</th>\n",
       "      <td>4</td>\n",
       "      <td>107</td>\n",
       "    </tr>\n",
       "    <tr>\n",
       "      <th>4</th>\n",
       "      <td>5</td>\n",
       "      <td>113</td>\n",
       "    </tr>\n",
       "    <tr>\n",
       "      <th>5</th>\n",
       "      <td>6</td>\n",
       "      <td>114</td>\n",
       "    </tr>\n",
       "    <tr>\n",
       "      <th>6</th>\n",
       "      <td>7</td>\n",
       "      <td>111</td>\n",
       "    </tr>\n",
       "    <tr>\n",
       "      <th>7</th>\n",
       "      <td>8</td>\n",
       "      <td>95</td>\n",
       "    </tr>\n",
       "    <tr>\n",
       "      <th>8</th>\n",
       "      <td>9</td>\n",
       "      <td>97</td>\n",
       "    </tr>\n",
       "    <tr>\n",
       "      <th>9</th>\n",
       "      <td>10</td>\n",
       "      <td>98</td>\n",
       "    </tr>\n",
       "    <tr>\n",
       "      <th>10</th>\n",
       "      <td>11</td>\n",
       "      <td>123</td>\n",
       "    </tr>\n",
       "    <tr>\n",
       "      <th>11</th>\n",
       "      <td>12</td>\n",
       "      <td>69</td>\n",
       "    </tr>\n",
       "  </tbody>\n",
       "</table>\n",
       "</div>"
      ],
      "text/plain": [
       "    Month of absence  avg_loss\n",
       "0                  1        74\n",
       "1                  2        99\n",
       "2                  3       188\n",
       "3                  4       107\n",
       "4                  5       113\n",
       "5                  6       114\n",
       "6                  7       111\n",
       "7                  8        95\n",
       "8                  9        97\n",
       "9                 10        98\n",
       "10                11       123\n",
       "11                12        69"
      ]
     },
     "execution_count": 48,
     "metadata": {},
     "output_type": "execute_result"
    }
   ],
   "source": [
    "import datetime as dt\n",
    "emp=emp.astype(int)\n",
    "emp"
   ]
  },
  {
   "cell_type": "code",
   "execution_count": 49,
   "metadata": {},
   "outputs": [
    {
     "data": {
      "text/plain": [
       "[<matplotlib.lines.Line2D at 0x29d831fdb38>]"
      ]
     },
     "execution_count": 49,
     "metadata": {},
     "output_type": "execute_result"
    },
    {
     "data": {
      "image/png": "[encoded data removed]",
      "text/plain": [
       "<matplotlib.figure.Figure at 0x29d8308c080>"
      ]
     },
     "metadata": {},
     "output_type": "display_data"
    }
   ],
   "source": [
    "ts=emp.avg_loss\n",
    "plt.plot(ts)"
   ]
  },
  {
   "cell_type": "code",
   "execution_count": 50,
   "metadata": {},
   "outputs": [
    {
     "name": "stderr",
     "output_type": "stream",
     "text": [
      "C:\\Users\\Owner\\Anaconda3\\lib\\site-packages\\statsmodels\\regression\\linear_model.py:1353: RuntimeWarning: divide by zero encountered in double_scalars\n",
      "  return np.dot(wresid, wresid) / self.df_resid\n"
     ]
    },
    {
     "data": {
      "text/plain": [
       "Test Statistic                 0.000000\n",
       "p-value                        0.958532\n",
       "#Lags Used                     6.000000\n",
       "Number of Observations Used    5.000000\n",
       "Critical Value (1%)           -6.045114\n",
       "Critical Value (5%)           -3.929280\n",
       "Critical Value (10%)          -2.986810\n",
       "dtype: float64"
      ]
     },
     "execution_count": 50,
     "metadata": {},
     "output_type": "execute_result"
    }
   ],
   "source": [
    "###### checking if the time series is stationary series\n",
    "from statsmodels.tsa.stattools import adfuller\n",
    "ttest = adfuller(ts,autolag='AIC')\n",
    "outp = pd.Series(ttest[0:4], index=['Test Statistic','p-value','#Lags Used','Number of Observations Used'])\n",
    "for key,value in ttest[4].items():\n",
    "    outp['Critical Value (%s)'%key] = value\n",
    "outp"
   ]
  },
  {
   "cell_type": "markdown",
   "metadata": {},
   "source": [
    " p>0.05 that means data is not stationary"
   ]
  },
  {
   "cell_type": "code",
   "execution_count": 51,
   "metadata": {},
   "outputs": [
    {
     "data": {
      "text/plain": [
       "[<matplotlib.lines.Line2D at 0x29d83ad5160>]"
      ]
     },
     "execution_count": 51,
     "metadata": {},
     "output_type": "execute_result"
    },
    {
     "data": {
      "image/png": "[encoded data removed]",
      "text/plain": [
       "<matplotlib.figure.Figure at 0x29d83221f28>"
      ]
     },
     "metadata": {},
     "output_type": "display_data"
    }
   ],
   "source": [
    "plt.plot(np.diff(np.log(ts)))\n"
   ]
  },
  {
   "cell_type": "code",
   "execution_count": 52,
   "metadata": {},
   "outputs": [
    {
     "data": {
      "text/html": [
       "<div>\n",
       "<style scoped>\n",
       "    .dataframe tbody tr th:only-of-type {\n",
       "        vertical-align: middle;\n",
       "    }\n",
       "\n",
       "    .dataframe tbody tr th {\n",
       "        vertical-align: top;\n",
       "    }\n",
       "\n",
       "    .dataframe thead th {\n",
       "        text-align: right;\n",
       "    }\n",
       "</style>\n",
       "<table border=\"1\" class=\"dataframe\">\n",
       "  <thead>\n",
       "    <tr style=\"text-align: right;\">\n",
       "      <th></th>\n",
       "      <th>avg_loss</th>\n",
       "    </tr>\n",
       "    <tr>\n",
       "      <th>Month of absence</th>\n",
       "      <th></th>\n",
       "    </tr>\n",
       "  </thead>\n",
       "  <tbody>\n",
       "    <tr>\n",
       "      <th>1</th>\n",
       "      <td>74</td>\n",
       "    </tr>\n",
       "    <tr>\n",
       "      <th>2</th>\n",
       "      <td>99</td>\n",
       "    </tr>\n",
       "    <tr>\n",
       "      <th>3</th>\n",
       "      <td>188</td>\n",
       "    </tr>\n",
       "    <tr>\n",
       "      <th>4</th>\n",
       "      <td>107</td>\n",
       "    </tr>\n",
       "    <tr>\n",
       "      <th>5</th>\n",
       "      <td>113</td>\n",
       "    </tr>\n",
       "    <tr>\n",
       "      <th>6</th>\n",
       "      <td>114</td>\n",
       "    </tr>\n",
       "    <tr>\n",
       "      <th>7</th>\n",
       "      <td>111</td>\n",
       "    </tr>\n",
       "    <tr>\n",
       "      <th>8</th>\n",
       "      <td>95</td>\n",
       "    </tr>\n",
       "    <tr>\n",
       "      <th>9</th>\n",
       "      <td>97</td>\n",
       "    </tr>\n",
       "    <tr>\n",
       "      <th>10</th>\n",
       "      <td>98</td>\n",
       "    </tr>\n",
       "    <tr>\n",
       "      <th>11</th>\n",
       "      <td>123</td>\n",
       "    </tr>\n",
       "    <tr>\n",
       "      <th>12</th>\n",
       "      <td>69</td>\n",
       "    </tr>\n",
       "  </tbody>\n",
       "</table>\n",
       "</div>"
      ],
      "text/plain": [
       "                  avg_loss\n",
       "Month of absence          \n",
       "1                       74\n",
       "2                       99\n",
       "3                      188\n",
       "4                      107\n",
       "5                      113\n",
       "6                      114\n",
       "7                      111\n",
       "8                       95\n",
       "9                       97\n",
       "10                      98\n",
       "11                     123\n",
       "12                      69"
      ]
     },
     "execution_count": 52,
     "metadata": {},
     "output_type": "execute_result"
    }
   ],
   "source": [
    "ts=emp.set_index('Month of absence')\n",
    "ts"
   ]
  },
  {
   "cell_type": "markdown",
   "metadata": {},
   "source": [
    "p< 0.05 that means we can reject null hypothesis .\n",
    "Therefore the diff(log(ts)) data is stationary"
   ]
  },
  {
   "cell_type": "code",
   "execution_count": 53,
   "metadata": {},
   "outputs": [],
   "source": [
    "# Let's build ARIMA model \n",
    "from statsmodels.tsa.arima_model import ARIMA"
   ]
  },
  {
   "cell_type": "code",
   "execution_count": 54,
   "metadata": {},
   "outputs": [
    {
     "data": {
      "text/plain": [
       "array([], shape=(12, 0), dtype=float64)"
      ]
     },
     "execution_count": 54,
     "metadata": {},
     "output_type": "execute_result"
    }
   ],
   "source": [
    "np.diff(np.log(ts).values)\n"
   ]
  },
  {
   "cell_type": "code",
   "execution_count": 55,
   "metadata": {},
   "outputs": [
    {
     "name": "stderr",
     "output_type": "stream",
     "text": [
      "C:\\Users\\Owner\\Anaconda3\\lib\\site-packages\\statsmodels\\tsa\\kalmanf\\kalmanfilter.py:646: FutureWarning: Conversion of the second argument of issubdtype from `float` to `np.floating` is deprecated. In future, it will be treated as `np.float64 == np.dtype(float).type`.\n",
      "  if issubdtype(paramsdtype, float):\n",
      "C:\\Users\\Owner\\Anaconda3\\lib\\site-packages\\statsmodels\\tsa\\kalmanf\\kalmanfilter.py:650: FutureWarning: Conversion of the second argument of issubdtype from `complex` to `np.complexfloating` is deprecated. In future, it will be treated as `np.complex128 == np.dtype(complex).type`.\n",
      "  elif issubdtype(paramsdtype, complex):\n"
     ]
    },
    {
     "data": {
      "text/plain": [
       "<statsmodels.tsa.arima_model.ARMAResultsWrapper at 0x29d83ab84a8>"
      ]
     },
     "execution_count": 55,
     "metadata": {},
     "output_type": "execute_result"
    }
   ],
   "source": [
    "# Now, let's predict the losses in 2011\n",
    "model = ARIMA(np.log(ts.values), order=(3,0,0))\n",
    "m=model.fit()\n",
    "m"
   ]
  },
  {
   "cell_type": "code",
   "execution_count": 56,
   "metadata": {},
   "outputs": [
    {
     "name": "stderr",
     "output_type": "stream",
     "text": [
      "C:\\Users\\Owner\\Anaconda3\\lib\\site-packages\\statsmodels\\tsa\\kalmanf\\kalmanfilter.py:577: FutureWarning: Conversion of the second argument of issubdtype from `float` to `np.floating` is deprecated. In future, it will be treated as `np.float64 == np.dtype(float).type`.\n",
      "  if issubdtype(paramsdtype, float):\n"
     ]
    }
   ],
   "source": [
    "ts_pred= m.predict(start=12,end=24)"
   ]
  },
  {
   "cell_type": "code",
   "execution_count": 57,
   "metadata": {},
   "outputs": [
    {
     "data": {
      "text/plain": [
       "array([4.67349651, 4.82719848, 4.55624606, 4.63329001, 4.73490997,\n",
       "       4.64378323, 4.64078422, 4.68891914, 4.66513548, 4.65323637,\n",
       "       4.67161606, 4.66797543, 4.66055222])"
      ]
     },
     "execution_count": 57,
     "metadata": {},
     "output_type": "execute_result"
    }
   ],
   "source": [
    "ts_pred"
   ]
  },
  {
   "cell_type": "code",
   "execution_count": 58,
   "metadata": {},
   "outputs": [],
   "source": [
    "predd=2.718282**(ts_pred)"
   ]
  },
  {
   "cell_type": "markdown",
   "metadata": {},
   "source": [
    "#2. How much losses every month can we project in 2011 if same trend of absenteeism continues?"
   ]
  },
  {
   "cell_type": "code",
   "execution_count": 59,
   "metadata": {},
   "outputs": [
    {
     "data": {
      "text/plain": [
       "[<matplotlib.lines.Line2D at 0x29d83b4d630>]"
      ]
     },
     "execution_count": 59,
     "metadata": {},
     "output_type": "execute_result"
    },
    {
     "data": {
      "image/png": "[encoded data removed]",
      "text/plain": [
       "<matplotlib.figure.Figure at 0x29d83adb780>"
      ]
     },
     "metadata": {},
     "output_type": "display_data"
    }
   ],
   "source": [
    "plt.plot(predd)"
   ]
  },
  {
   "cell_type": "markdown",
   "metadata": {},
   "source": [
    "# Model development"
   ]
  },
  {
   "cell_type": "code",
   "execution_count": 60,
   "metadata": {},
   "outputs": [],
   "source": [
    "y=data['Absenteeism time in hours']\n",
    "x=data.drop(columns=['Weight','Absenteeism time in hours'])"
   ]
  },
  {
   "cell_type": "code",
   "execution_count": 61,
   "metadata": {},
   "outputs": [
    {
     "data": {
      "text/plain": [
       "(704, 78)"
      ]
     },
     "execution_count": 61,
     "metadata": {},
     "output_type": "execute_result"
    }
   ],
   "source": [
    "x=pd.get_dummies(x,columns=cat_vars)\n",
    "x.shape"
   ]
  },
  {
   "cell_type": "code",
   "execution_count": 62,
   "metadata": {},
   "outputs": [],
   "source": [
    "x_train, x_test, y_train, y_test = train_test_split(x, y, random_state=7, test_size = .2)"
   ]
  },
  {
   "cell_type": "code",
   "execution_count": 63,
   "metadata": {},
   "outputs": [
    {
     "data": {
      "text/plain": [
       "LinearRegression(copy_X=True, fit_intercept=True, n_jobs=1, normalize=False)"
      ]
     },
     "execution_count": 63,
     "metadata": {},
     "output_type": "execute_result"
    }
   ],
   "source": [
    "lr=LinearRegression()\n",
    "lr.fit(x_train,y_train)"
   ]
  },
  {
   "cell_type": "code",
   "execution_count": 64,
   "metadata": {},
   "outputs": [
    {
     "data": {
      "text/plain": [
       "6.03185168102658"
      ]
     },
     "execution_count": 64,
     "metadata": {},
     "output_type": "execute_result"
    }
   ],
   "source": [
    "y_pred = lr.predict(x_test)\n",
    "error = np.sqrt(metrics.mean_squared_error(y_pred, y_test))\n",
    "error"
   ]
  },
  {
   "cell_type": "code",
   "execution_count": 65,
   "metadata": {},
   "outputs": [
    {
     "data": {
      "text/plain": [
       "RandomForestRegressor(bootstrap=True, criterion='mse', max_depth=None,\n",
       "           max_features='auto', max_leaf_nodes=None,\n",
       "           min_impurity_decrease=0.0, min_impurity_split=None,\n",
       "           min_samples_leaf=1, min_samples_split=2,\n",
       "           min_weight_fraction_leaf=0.0, n_estimators=10, n_jobs=1,\n",
       "           oob_score=False, random_state=8, verbose=0, warm_start=False)"
      ]
     },
     "execution_count": 65,
     "metadata": {},
     "output_type": "execute_result"
    }
   ],
   "source": [
    "randomForest = RandomForestRegressor(random_state=8)\n",
    "randomForest.fit(x_train, y_train)"
   ]
  },
  {
   "cell_type": "code",
   "execution_count": 66,
   "metadata": {},
   "outputs": [
    {
     "data": {
      "text/plain": [
       "5.903988147356771"
      ]
     },
     "execution_count": 66,
     "metadata": {},
     "output_type": "execute_result"
    }
   ],
   "source": [
    "randomForestPredict = randomForest.predict(x_test)\n",
    "randomForest_mse = mean_squared_error(y_test, randomForestPredict)\n",
    "randomForestMSE = np.sqrt(randomForest_mse)\n",
    "randomForestMSE"
   ]
  },
  {
   "cell_type": "code",
   "execution_count": 67,
   "metadata": {},
   "outputs": [],
   "source": [
    "#We fix lr_model to predict Absenteeism timein hours fornew data"
   ]
  }
 ],
 "metadata": {
  "kernelspec": {
   "display_name": "Python 3",
   "language": "python",
   "name": "python3"
  },
  "language_info": {
   "codemirror_mode": {
    "name": "ipython",
    "version": 3
   },
   "file_extension": ".py",
   "mimetype": "text/x-python",
   "name": "python",
   "nbconvert_exporter": "python",
   "pygments_lexer": "ipython3",
   "version": "3.6.8"
  }
 },
 "nbformat": 4,
 "nbformat_minor": 2
}
